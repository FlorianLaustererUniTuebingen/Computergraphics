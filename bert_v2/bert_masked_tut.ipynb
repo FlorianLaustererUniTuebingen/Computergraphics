{
 "cells": [
  {
   "cell_type": "code",
   "execution_count": null,
   "id": "1cf91a73-1396-483e-ad08-29fefb6bfdd5",
   "metadata": {},
   "outputs": [],
   "source": [
    "!unzip masked_validation_dataset.zip"
   ]
  },
  {
   "cell_type": "code",
   "execution_count": 37,
   "id": "2497c908-7ca8-498d-bcfd-af420c49a680",
   "metadata": {},
   "outputs": [],
   "source": [
    "from transformers import BertTokenizer, BertForMaskedLM\n",
    "from datasets import Dataset\n",
    "import torch"
   ]
  },
  {
   "cell_type": "code",
   "execution_count": 38,
   "id": "1cc0fc2b-db35-46bb-a202-cc8a15310c05",
   "metadata": {},
   "outputs": [
    {
     "name": "stderr",
     "output_type": "stream",
     "text": [
      "Some weights of the model checkpoint at bert-base-uncased were not used when initializing BertForMaskedLM: ['cls.seq_relationship.weight', 'bert.pooler.dense.bias', 'cls.seq_relationship.bias', 'bert.pooler.dense.weight']\n",
      "- This IS expected if you are initializing BertForMaskedLM from the checkpoint of a model trained on another task or with another architecture (e.g. initializing a BertForSequenceClassification model from a BertForPreTraining model).\n",
      "- This IS NOT expected if you are initializing BertForMaskedLM from the checkpoint of a model that you expect to be exactly identical (initializing a BertForSequenceClassification model from a BertForSequenceClassification model).\n"
     ]
    }
   ],
   "source": [
    "tokenizer = BertTokenizer.from_pretrained('bert-base-uncased')\n",
    "model = BertForMaskedLM.from_pretrained('bert-base-uncased')"
   ]
  },
  {
   "cell_type": "code",
   "execution_count": 39,
   "id": "c9ac73da-65cf-45f3-9c7c-936be3d98f4f",
   "metadata": {},
   "outputs": [],
   "source": [
    "ds = Dataset.load_from_disk(\"masked_training_dataset\")"
   ]
  },
  {
   "cell_type": "code",
   "execution_count": 40,
   "id": "d8f127c9-d943-4a0d-b3f9-2431b7b16ff0",
   "metadata": {},
   "outputs": [
    {
     "data": {
      "text/plain": [
       "35"
      ]
     },
     "execution_count": 40,
     "metadata": {},
     "output_type": "execute_result"
    }
   ],
   "source": [
    "tokenized_lengths = [len(tokenizer.encode(s)) for s in ds['text']]\n",
    "\n",
    "# Find the maximum length\n",
    "max_length = max(tokenized_lengths)\n",
    "max_length"
   ]
  },
  {
   "cell_type": "code",
   "execution_count": 41,
   "id": "b823b50e-ae82-45fe-a2c8-f41b4df1a7ad",
   "metadata": {},
   "outputs": [],
   "source": [
    "inputs = tokenizer(ds['text'], return_tensors='pt', max_length=35, truncation=True, padding='max_length')"
   ]
  },
  {
   "cell_type": "code",
   "execution_count": 42,
   "id": "73199bc4-8521-4304-a13e-c1e3740e9221",
   "metadata": {},
   "outputs": [],
   "source": [
    "inputs['labels'] = inputs.input_ids.detach().clone()"
   ]
  },
  {
   "cell_type": "code",
   "execution_count": 43,
   "id": "04a0a075-7ba1-4923-b801-f9497f610f88",
   "metadata": {},
   "outputs": [],
   "source": [
    "labels = tokenizer(ds[\"label\"], add_special_tokens=False)\n",
    "labels = [item for sublist in labels['input_ids'] for item in sublist]"
   ]
  },
  {
   "cell_type": "code",
   "execution_count": 44,
   "id": "6e1700ec-649a-40a9-a914-6a6fdfbb8b0f",
   "metadata": {},
   "outputs": [],
   "source": [
    "for tensor in inputs['labels']:\n",
    "    for n, token in enumerate(tensor):\n",
    "        if token.item() == tokenizer.mask_token_id:\n",
    "            tensor[n] = torch.tensor(labels.pop(0))"
   ]
  },
  {
   "cell_type": "code",
   "execution_count": 45,
   "id": "459c4fa2-2464-41dc-bf71-77f50714337c",
   "metadata": {},
   "outputs": [
    {
     "data": {
      "text/plain": [
       "'[CLS] some plant varieties can grow up to [MASK] feet tall. [SEP] [PAD] [PAD] [PAD] [PAD] [PAD] [PAD] [PAD] [PAD] [PAD] [PAD] [PAD] [PAD] [PAD] [PAD] [PAD] [PAD] [PAD] [PAD] [PAD] [PAD] [PAD] [PAD]'"
      ]
     },
     "execution_count": 45,
     "metadata": {},
     "output_type": "execute_result"
    }
   ],
   "source": [
    "tokenizer.decode(inputs['input_ids'][0])"
   ]
  },
  {
   "cell_type": "code",
   "execution_count": 46,
   "id": "4a2b94b0-6e23-48f2-8d5b-c7361d192406",
   "metadata": {},
   "outputs": [
    {
     "data": {
      "text/plain": [
       "'n i n e'"
      ]
     },
     "execution_count": 46,
     "metadata": {},
     "output_type": "execute_result"
    }
   ],
   "source": [
    "inputs['input_ids'][0]\n",
    "inputs['labels'][0]\n",
    "tokenizer.decode(3157)"
   ]
  },
  {
   "cell_type": "code",
   "execution_count": 47,
   "id": "ee09a611-b26f-47e3-baa3-af8e9a1656b8",
   "metadata": {},
   "outputs": [],
   "source": [
    "class CustomDataset(torch.utils.data.Dataset):\n",
    "    def __init__(self, encodings):\n",
    "        self.encodings = encodings\n",
    "    def __getitem__(self, idx):\n",
    "        return {key: torch.tensor(val[idx]) for key, val in self.encodings.items()}\n",
    "    def __len__(self):\n",
    "        return len(self.encodings.input_ids)"
   ]
  },
  {
   "cell_type": "code",
   "execution_count": 48,
   "id": "550a6509-4804-444c-b307-f195516a8f1e",
   "metadata": {},
   "outputs": [],
   "source": [
    "dataset = CustomDataset(inputs)"
   ]
  },
  {
   "cell_type": "code",
   "execution_count": 49,
   "id": "9d427dee-c117-41c7-905b-b501e2aa8bc6",
   "metadata": {},
   "outputs": [],
   "source": [
    "dataloader = torch.utils.data.DataLoader(dataset, batch_size=128, shuffle=True)"
   ]
  },
  {
   "cell_type": "code",
   "execution_count": 50,
   "id": "d6fb7e83-7405-47e4-a60e-eae559c20981",
   "metadata": {},
   "outputs": [
    {
     "data": {
      "text/plain": [
       "BertForMaskedLM(\n",
       "  (bert): BertModel(\n",
       "    (embeddings): BertEmbeddings(\n",
       "      (word_embeddings): Embedding(30522, 768, padding_idx=0)\n",
       "      (position_embeddings): Embedding(512, 768)\n",
       "      (token_type_embeddings): Embedding(2, 768)\n",
       "      (LayerNorm): LayerNorm((768,), eps=1e-12, elementwise_affine=True)\n",
       "      (dropout): Dropout(p=0.1, inplace=False)\n",
       "    )\n",
       "    (encoder): BertEncoder(\n",
       "      (layer): ModuleList(\n",
       "        (0-11): 12 x BertLayer(\n",
       "          (attention): BertAttention(\n",
       "            (self): BertSelfAttention(\n",
       "              (query): Linear(in_features=768, out_features=768, bias=True)\n",
       "              (key): Linear(in_features=768, out_features=768, bias=True)\n",
       "              (value): Linear(in_features=768, out_features=768, bias=True)\n",
       "              (dropout): Dropout(p=0.1, inplace=False)\n",
       "            )\n",
       "            (output): BertSelfOutput(\n",
       "              (dense): Linear(in_features=768, out_features=768, bias=True)\n",
       "              (LayerNorm): LayerNorm((768,), eps=1e-12, elementwise_affine=True)\n",
       "              (dropout): Dropout(p=0.1, inplace=False)\n",
       "            )\n",
       "          )\n",
       "          (intermediate): BertIntermediate(\n",
       "            (dense): Linear(in_features=768, out_features=3072, bias=True)\n",
       "            (intermediate_act_fn): GELUActivation()\n",
       "          )\n",
       "          (output): BertOutput(\n",
       "            (dense): Linear(in_features=3072, out_features=768, bias=True)\n",
       "            (LayerNorm): LayerNorm((768,), eps=1e-12, elementwise_affine=True)\n",
       "            (dropout): Dropout(p=0.1, inplace=False)\n",
       "          )\n",
       "        )\n",
       "      )\n",
       "    )\n",
       "  )\n",
       "  (cls): BertOnlyMLMHead(\n",
       "    (predictions): BertLMPredictionHead(\n",
       "      (transform): BertPredictionHeadTransform(\n",
       "        (dense): Linear(in_features=768, out_features=768, bias=True)\n",
       "        (transform_act_fn): GELUActivation()\n",
       "        (LayerNorm): LayerNorm((768,), eps=1e-12, elementwise_affine=True)\n",
       "      )\n",
       "      (decoder): Linear(in_features=768, out_features=30522, bias=True)\n",
       "    )\n",
       "  )\n",
       ")"
      ]
     },
     "execution_count": 50,
     "metadata": {},
     "output_type": "execute_result"
    }
   ],
   "source": [
    "#Training\n",
    "\n",
    "device = torch.device('cuda') if torch.cuda.is_available() else torch.device('cpu')\n",
    "model.to(device)"
   ]
  },
  {
   "cell_type": "code",
   "execution_count": 51,
   "id": "e13a10fe-1d77-4b10-a1ff-bd53c00a94bd",
   "metadata": {},
   "outputs": [
    {
     "data": {
      "text/plain": [
       "BertForMaskedLM(\n",
       "  (bert): BertModel(\n",
       "    (embeddings): BertEmbeddings(\n",
       "      (word_embeddings): Embedding(30522, 768, padding_idx=0)\n",
       "      (position_embeddings): Embedding(512, 768)\n",
       "      (token_type_embeddings): Embedding(2, 768)\n",
       "      (LayerNorm): LayerNorm((768,), eps=1e-12, elementwise_affine=True)\n",
       "      (dropout): Dropout(p=0.1, inplace=False)\n",
       "    )\n",
       "    (encoder): BertEncoder(\n",
       "      (layer): ModuleList(\n",
       "        (0-11): 12 x BertLayer(\n",
       "          (attention): BertAttention(\n",
       "            (self): BertSelfAttention(\n",
       "              (query): Linear(in_features=768, out_features=768, bias=True)\n",
       "              (key): Linear(in_features=768, out_features=768, bias=True)\n",
       "              (value): Linear(in_features=768, out_features=768, bias=True)\n",
       "              (dropout): Dropout(p=0.1, inplace=False)\n",
       "            )\n",
       "            (output): BertSelfOutput(\n",
       "              (dense): Linear(in_features=768, out_features=768, bias=True)\n",
       "              (LayerNorm): LayerNorm((768,), eps=1e-12, elementwise_affine=True)\n",
       "              (dropout): Dropout(p=0.1, inplace=False)\n",
       "            )\n",
       "          )\n",
       "          (intermediate): BertIntermediate(\n",
       "            (dense): Linear(in_features=768, out_features=3072, bias=True)\n",
       "            (intermediate_act_fn): GELUActivation()\n",
       "          )\n",
       "          (output): BertOutput(\n",
       "            (dense): Linear(in_features=3072, out_features=768, bias=True)\n",
       "            (LayerNorm): LayerNorm((768,), eps=1e-12, elementwise_affine=True)\n",
       "            (dropout): Dropout(p=0.1, inplace=False)\n",
       "          )\n",
       "        )\n",
       "      )\n",
       "    )\n",
       "  )\n",
       "  (cls): BertOnlyMLMHead(\n",
       "    (predictions): BertLMPredictionHead(\n",
       "      (transform): BertPredictionHeadTransform(\n",
       "        (dense): Linear(in_features=768, out_features=768, bias=True)\n",
       "        (transform_act_fn): GELUActivation()\n",
       "        (LayerNorm): LayerNorm((768,), eps=1e-12, elementwise_affine=True)\n",
       "      )\n",
       "      (decoder): Linear(in_features=768, out_features=30522, bias=True)\n",
       "    )\n",
       "  )\n",
       ")"
      ]
     },
     "execution_count": 51,
     "metadata": {},
     "output_type": "execute_result"
    }
   ],
   "source": [
    "model.train()"
   ]
  },
  {
   "cell_type": "code",
   "execution_count": 52,
   "id": "84eed7c5-b8a6-493f-bdea-e8c3157ee392",
   "metadata": {},
   "outputs": [],
   "source": [
    "from torch.optim import AdamW\n",
    "optim = AdamW(model.parameters(), lr=1e-5)"
   ]
  },
  {
   "cell_type": "code",
   "execution_count": 53,
   "id": "940954c6-3c78-46f4-9a2c-3fe72b85fda2",
   "metadata": {},
   "outputs": [
    {
     "data": {
      "text/plain": [
       "True"
      ]
     },
     "execution_count": 53,
     "metadata": {},
     "output_type": "execute_result"
    }
   ],
   "source": [
    "import torch\n",
    "torch.cuda.is_available()\n"
   ]
  },
  {
   "cell_type": "code",
   "execution_count": 54,
   "id": "d472b392-f3fc-4516-9f34-f39d33408352",
   "metadata": {},
   "outputs": [],
   "source": [
    "writer = torch.utils.tensorboard.SummaryWriter()"
   ]
  },
  {
   "cell_type": "code",
   "execution_count": 55,
   "id": "de9fb77b-ae4e-4201-bd11-4bd70ab99e77",
   "metadata": {},
   "outputs": [
    {
     "name": "stderr",
     "output_type": "stream",
     "text": [
      "  0%|          | 0/82 [00:00<?, ?it/s]/tmp/ipykernel_1571/2775228074.py:5: UserWarning: To copy construct from a tensor, it is recommended to use sourceTensor.clone().detach() or sourceTensor.clone().detach().requires_grad_(True), rather than torch.tensor(sourceTensor).\n",
      "  return {key: torch.tensor(val[idx]) for key, val in self.encodings.items()}\n",
      "Epoch 0:   1%|          | 1/82 [00:00<00:35,  2.30it/s, loss=11]\n"
     ]
    },
    {
     "ename": "OutOfMemoryError",
     "evalue": "CUDA out of memory. Tried to allocate 522.00 MiB (GPU 0; 15.77 GiB total capacity; 6.48 GiB already allocated; 310.38 MiB free; 6.67 GiB reserved in total by PyTorch) If reserved memory is >> allocated memory try setting max_split_size_mb to avoid fragmentation.  See documentation for Memory Management and PYTORCH_CUDA_ALLOC_CONF",
     "output_type": "error",
     "traceback": [
      "\u001b[0;31m---------------------------------------------------------------------------\u001b[0m",
      "\u001b[0;31mOutOfMemoryError\u001b[0m                          Traceback (most recent call last)",
      "Cell \u001b[0;32mIn[55], line 16\u001b[0m\n\u001b[1;32m     13\u001b[0m loss \u001b[38;5;241m=\u001b[39m outputs\u001b[38;5;241m.\u001b[39mloss\n\u001b[1;32m     14\u001b[0m writer\u001b[38;5;241m.\u001b[39madd_scalar(\u001b[38;5;124m'\u001b[39m\u001b[38;5;124mLoss/train\u001b[39m\u001b[38;5;124m'\u001b[39m, loss, step)\n\u001b[0;32m---> 16\u001b[0m \u001b[43mloss\u001b[49m\u001b[38;5;241;43m.\u001b[39;49m\u001b[43mbackward\u001b[49m\u001b[43m(\u001b[49m\u001b[43m)\u001b[49m\n\u001b[1;32m     17\u001b[0m optim\u001b[38;5;241m.\u001b[39mstep()\n\u001b[1;32m     18\u001b[0m loop\u001b[38;5;241m.\u001b[39mset_description(\u001b[38;5;124mf\u001b[39m\u001b[38;5;124m'\u001b[39m\u001b[38;5;124mEpoch \u001b[39m\u001b[38;5;132;01m{\u001b[39;00mepoch\u001b[38;5;132;01m}\u001b[39;00m\u001b[38;5;124m'\u001b[39m)\n",
      "File \u001b[0;32m/opt/conda/lib/python3.10/site-packages/torch/_tensor.py:487\u001b[0m, in \u001b[0;36mTensor.backward\u001b[0;34m(self, gradient, retain_graph, create_graph, inputs)\u001b[0m\n\u001b[1;32m    477\u001b[0m \u001b[38;5;28;01mif\u001b[39;00m has_torch_function_unary(\u001b[38;5;28mself\u001b[39m):\n\u001b[1;32m    478\u001b[0m     \u001b[38;5;28;01mreturn\u001b[39;00m handle_torch_function(\n\u001b[1;32m    479\u001b[0m         Tensor\u001b[38;5;241m.\u001b[39mbackward,\n\u001b[1;32m    480\u001b[0m         (\u001b[38;5;28mself\u001b[39m,),\n\u001b[0;32m   (...)\u001b[0m\n\u001b[1;32m    485\u001b[0m         inputs\u001b[38;5;241m=\u001b[39minputs,\n\u001b[1;32m    486\u001b[0m     )\n\u001b[0;32m--> 487\u001b[0m \u001b[43mtorch\u001b[49m\u001b[38;5;241;43m.\u001b[39;49m\u001b[43mautograd\u001b[49m\u001b[38;5;241;43m.\u001b[39;49m\u001b[43mbackward\u001b[49m\u001b[43m(\u001b[49m\n\u001b[1;32m    488\u001b[0m \u001b[43m    \u001b[49m\u001b[38;5;28;43mself\u001b[39;49m\u001b[43m,\u001b[49m\u001b[43m \u001b[49m\u001b[43mgradient\u001b[49m\u001b[43m,\u001b[49m\u001b[43m \u001b[49m\u001b[43mretain_graph\u001b[49m\u001b[43m,\u001b[49m\u001b[43m \u001b[49m\u001b[43mcreate_graph\u001b[49m\u001b[43m,\u001b[49m\u001b[43m \u001b[49m\u001b[43minputs\u001b[49m\u001b[38;5;241;43m=\u001b[39;49m\u001b[43minputs\u001b[49m\n\u001b[1;32m    489\u001b[0m \u001b[43m\u001b[49m\u001b[43m)\u001b[49m\n",
      "File \u001b[0;32m/opt/conda/lib/python3.10/site-packages/torch/autograd/__init__.py:200\u001b[0m, in \u001b[0;36mbackward\u001b[0;34m(tensors, grad_tensors, retain_graph, create_graph, grad_variables, inputs)\u001b[0m\n\u001b[1;32m    195\u001b[0m     retain_graph \u001b[38;5;241m=\u001b[39m create_graph\n\u001b[1;32m    197\u001b[0m \u001b[38;5;66;03m# The reason we repeat same the comment below is that\u001b[39;00m\n\u001b[1;32m    198\u001b[0m \u001b[38;5;66;03m# some Python versions print out the first line of a multi-line function\u001b[39;00m\n\u001b[1;32m    199\u001b[0m \u001b[38;5;66;03m# calls in the traceback and some print out the last line\u001b[39;00m\n\u001b[0;32m--> 200\u001b[0m \u001b[43mVariable\u001b[49m\u001b[38;5;241;43m.\u001b[39;49m\u001b[43m_execution_engine\u001b[49m\u001b[38;5;241;43m.\u001b[39;49m\u001b[43mrun_backward\u001b[49m\u001b[43m(\u001b[49m\u001b[43m  \u001b[49m\u001b[38;5;66;43;03m# Calls into the C++ engine to run the backward pass\u001b[39;49;00m\n\u001b[1;32m    201\u001b[0m \u001b[43m    \u001b[49m\u001b[43mtensors\u001b[49m\u001b[43m,\u001b[49m\u001b[43m \u001b[49m\u001b[43mgrad_tensors_\u001b[49m\u001b[43m,\u001b[49m\u001b[43m \u001b[49m\u001b[43mretain_graph\u001b[49m\u001b[43m,\u001b[49m\u001b[43m \u001b[49m\u001b[43mcreate_graph\u001b[49m\u001b[43m,\u001b[49m\u001b[43m \u001b[49m\u001b[43minputs\u001b[49m\u001b[43m,\u001b[49m\n\u001b[1;32m    202\u001b[0m \u001b[43m    \u001b[49m\u001b[43mallow_unreachable\u001b[49m\u001b[38;5;241;43m=\u001b[39;49m\u001b[38;5;28;43;01mTrue\u001b[39;49;00m\u001b[43m,\u001b[49m\u001b[43m \u001b[49m\u001b[43maccumulate_grad\u001b[49m\u001b[38;5;241;43m=\u001b[39;49m\u001b[38;5;28;43;01mTrue\u001b[39;49;00m\u001b[43m)\u001b[49m\n",
      "\u001b[0;31mOutOfMemoryError\u001b[0m: CUDA out of memory. Tried to allocate 522.00 MiB (GPU 0; 15.77 GiB total capacity; 6.48 GiB already allocated; 310.38 MiB free; 6.67 GiB reserved in total by PyTorch) If reserved memory is >> allocated memory try setting max_split_size_mb to avoid fragmentation.  See documentation for Memory Management and PYTORCH_CUDA_ALLOC_CONF"
     ]
    }
   ],
   "source": [
    "from tqdm import tqdm\n",
    "epochs = 20\n",
    "step = 0\n",
    "for epoch in range(epochs):\n",
    "    loop = tqdm(dataloader, leave=True)\n",
    "    for batch in loop:\n",
    "        optim.zero_grad()\n",
    "        input_ids = batch['input_ids'].to(device)\n",
    "        attention_mask = batch['attention_mask'].to(device)\n",
    "        labels = batch['labels'].to(device)\n",
    "        \n",
    "        outputs = model(input_ids, attention_mask=attention_mask, labels=labels)\n",
    "        loss = outputs.loss\n",
    "        writer.add_scalar('Loss/train', loss, step)\n",
    "        \n",
    "        loss.backward()\n",
    "        optim.step()\n",
    "        loop.set_description(f'Epoch {epoch}')\n",
    "        loop.set_postfix(loss=loss.item())\n",
    "        step += 1\n",
    "\n",
    "    model.save_pretrained(f'./checkpoint/bert_epoch_{epoch}')\n",
    "    tokenizer.save_pretrained(f'./checkpoint/bert_epoch_{epoch}')\n",
    "        "
   ]
  },
  {
   "cell_type": "code",
   "execution_count": null,
   "id": "99e52db6-a831-4f9e-867e-d7f146f31e57",
   "metadata": {},
   "outputs": [],
   "source": [
    "ds_eval = Dataset.load_from_disk(\"masked_validation_dataset\")\n",
    "eval_list = []\n",
    "for n, line in enumerate(ds_eval['text']):\n",
    "    eval_list.append(line.replace(\"<mask>\", \"[MASK]\"))"
   ]
  },
  {
   "cell_type": "code",
   "execution_count": null,
   "id": "09187a09-d787-432f-85c7-cd1829b8202a",
   "metadata": {},
   "outputs": [],
   "source": [
    "from transformers import pipeline\n",
    "def evalModel(path, eval_list, ground_truth):\n",
    "    fill = pipeline('fill-mask', model=path, tokenizer=path)\n",
    "    \n",
    "    results = []\n",
    "    for line in eval_list:\n",
    "        results.append(fill(line)[0]['token_str'])\n",
    "\n",
    "    num_correct = 0\n",
    "    total_elements = len(results)\n",
    "    for i in range(total_elements):\n",
    "        if results[i] == ground_truth[i]:\n",
    "            num_correct += 1\n",
    "\n",
    "    proportion_correct = num_correct / total_elements\n",
    "    return proportion_correct"
   ]
  },
  {
   "cell_type": "code",
   "execution_count": 26,
   "id": "fb181070-517b-4aa3-9786-0fd46ee4594f",
   "metadata": {},
   "outputs": [
    {
     "name": "stdout",
     "output_type": "stream",
     "text": [
      "[0.28, 0.305, 0.305, 0.33, 0.325, 0.335, 0.335, 0.345, 0.345, 0.35, 0.355, 0.37, 0.365, 0.35, 0.35, 0.36, 0.385, 0.38, 0.38, 0.385, 0.42, 0.435, 0.43, 0.43, 0.42, 0.43, 0.435, 0.47, 0.435, 0.45, 0.445, 0.455, 0.45, 0.455, 0.455, 0.465, 0.47, 0.46, 0.46, 0.475, 0.465, 0.475, 0.48, 0.455, 0.48, 0.465, 0.485, 0.495, 0.47, 0.495, 0.475, 0.47, 0.48, 0.495, 0.48, 0.475, 0.485, 0.485, 0.5, 0.49]\n"
     ]
    }
   ],
   "source": [
    "eval_acc=[]\n",
    "for n in range(epochs):\n",
    "    model_path = f\"./checkpoint/bert_epoch_{n}\"\n",
    "    eval_acc.append(evalModel(model_path, eval_list, ds_eval['label']))\n",
    "print(eval_acc)"
   ]
  },
  {
   "cell_type": "code",
   "execution_count": 36,
   "id": "577ac4dd-45ed-4841-8573-e0a53f8c3060",
   "metadata": {},
   "outputs": [
    {
     "name": "stdout",
     "output_type": "stream",
     "text": [
      "99\n",
      "200\n"
     ]
    },
    {
     "data": {
      "text/plain": [
       "0.495"
      ]
     },
     "execution_count": 36,
     "metadata": {},
     "output_type": "execute_result"
    }
   ],
   "source": [
    "fill = pipeline('fill-mask', model='./checkpoint/bert_epoch_19', tokenizer='./checkpoint/bert_epoch_10')\n",
    "    \n",
    "results = []\n",
    "for line in eval_list:\n",
    "    results.append(fill(line)[0]['token_str'])\n",
    "\n",
    "num_correct = 0\n",
    "total_elements = len(results)\n",
    "for i in range(total_elements):\n",
    "    if results[i] == ds_eval['label'][i]:\n",
    "        num_correct += 1\n",
    "print(num_correct)\n",
    "print(total_elements)\n",
    "proportion_correct = num_correct / total_elements\n",
    "proportion_correct"
   ]
  },
  {
   "cell_type": "code",
   "execution_count": 23,
   "id": "e0f88d02-7e16-4f18-a43e-d48af40d3106",
   "metadata": {},
   "outputs": [
    {
     "data": {
      "text/plain": [
       "0.28"
      ]
     },
     "execution_count": 23,
     "metadata": {},
     "output_type": "execute_result"
    }
   ],
   "source": []
  },
  {
   "cell_type": "code",
   "execution_count": null,
   "id": "2d3309e8-5b01-4775-b5d0-78bc8b32dd42",
   "metadata": {},
   "outputs": [],
   "source": [
    "sequence = f\"Positive numbers are more than [MASK] and negative numbers are less than zero.\"\n",
    "\n",
    "fill(sequence)[0]['token_str']"
   ]
  },
  {
   "cell_type": "code",
   "execution_count": null,
   "id": "d727a614-d950-4f3d-a123-768d49137d1f",
   "metadata": {},
   "outputs": [],
   "source": [
    "ds_eval = Dataset.load_from_disk(\"masked_validation_dataset\")\n",
    "eval_list = []\n",
    "for n, line in enumerate(ds_eval['text']):\n",
    "    eval_list.append(line.replace(\"<mask>\", \"[MASK]\"))\n"
   ]
  },
  {
   "cell_type": "code",
   "execution_count": null,
   "id": "4378265f-0d7f-4cbd-903d-5ce83cdfd58e",
   "metadata": {},
   "outputs": [],
   "source": [
    "results = []\n",
    "for line in eval_list:\n",
    "    results.append(fill(line)[0]['token_str'])\n",
    "    "
   ]
  },
  {
   "cell_type": "code",
   "execution_count": null,
   "id": "f980b164-9b46-42cf-aa2b-60e94965ba2d",
   "metadata": {},
   "outputs": [],
   "source": [
    "ds_eval['label'][0]"
   ]
  },
  {
   "cell_type": "code",
   "execution_count": null,
   "id": "542bafc2-a2e8-43c7-8274-5e22d5a2d316",
   "metadata": {},
   "outputs": [],
   "source": [
    "num_correct = 0\n",
    "total_elements = len(results)\n",
    "\n",
    "for i in range(total_elements):\n",
    "    if results[i] == ds_eval['label'][i]:\n",
    "        num_correct += 1\n",
    "\n",
    "proportion_correct = num_correct / total_elements\n",
    "proportion_correct"
   ]
  }
 ],
 "metadata": {
  "kernelspec": {
   "display_name": "Python 3 (ipykernel)",
   "language": "python",
   "name": "python3"
  },
  "language_info": {
   "codemirror_mode": {
    "name": "ipython",
    "version": 3
   },
   "file_extension": ".py",
   "mimetype": "text/x-python",
   "name": "python",
   "nbconvert_exporter": "python",
   "pygments_lexer": "ipython3",
   "version": "3.10.13"
  }
 },
 "nbformat": 4,
 "nbformat_minor": 5
}
