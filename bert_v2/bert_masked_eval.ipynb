{
 "cells": [
  {
   "cell_type": "code",
   "execution_count": null,
   "id": "1cf91a73-1396-483e-ad08-29fefb6bfdd5",
   "metadata": {},
   "outputs": [],
   "source": [
    "!unzip masked_validation_dataset.zip"
   ]
  },
  {
   "cell_type": "code",
   "execution_count": 20,
   "id": "2497c908-7ca8-498d-bcfd-af420c49a680",
   "metadata": {},
   "outputs": [],
   "source": [
    "from transformers import BertTokenizer, BertForMaskedLM\n",
    "from datasets import Dataset\n",
    "import torch"
   ]
  },
  {
   "cell_type": "code",
   "execution_count": 2,
   "id": "b18a570c-e0bc-4d27-b8bc-44874a1b8b1d",
   "metadata": {},
   "outputs": [],
   "source": [
    "torch.cuda.empty_cache()"
   ]
  },
  {
   "cell_type": "code",
   "execution_count": 3,
   "id": "1cc0fc2b-db35-46bb-a202-cc8a15310c05",
   "metadata": {},
   "outputs": [
    {
     "name": "stderr",
     "output_type": "stream",
     "text": [
      "Some weights of the model checkpoint at bert-base-uncased were not used when initializing BertForMaskedLM: ['cls.seq_relationship.weight', 'bert.pooler.dense.bias', 'cls.seq_relationship.bias', 'bert.pooler.dense.weight']\n",
      "- This IS expected if you are initializing BertForMaskedLM from the checkpoint of a model trained on another task or with another architecture (e.g. initializing a BertForSequenceClassification model from a BertForPreTraining model).\n",
      "- This IS NOT expected if you are initializing BertForMaskedLM from the checkpoint of a model that you expect to be exactly identical (initializing a BertForSequenceClassification model from a BertForSequenceClassification model).\n"
     ]
    }
   ],
   "source": [
    "tokenizer = BertTokenizer.from_pretrained('bert-base-uncased')\n",
    "model = BertForMaskedLM.from_pretrained('bert-base-uncased')"
   ]
  },
  {
   "cell_type": "code",
   "execution_count": 4,
   "id": "c9ac73da-65cf-45f3-9c7c-936be3d98f4f",
   "metadata": {},
   "outputs": [],
   "source": [
    "ds = Dataset.load_from_disk(\"masked_training_dataset\")\n",
    "ds_eval = Dataset.load_from_disk(\"masked_validation_dataset\")"
   ]
  },
  {
   "cell_type": "code",
   "execution_count": 5,
   "id": "d8f127c9-d943-4a0d-b3f9-2431b7b16ff0",
   "metadata": {},
   "outputs": [
    {
     "data": {
      "text/plain": [
       "35"
      ]
     },
     "execution_count": 5,
     "metadata": {},
     "output_type": "execute_result"
    }
   ],
   "source": [
    "tokenized_lengths = [len(tokenizer.encode(s)) for s in ds['text']]\n",
    "\n",
    "# Find the maximum length\n",
    "max_length = max(tokenized_lengths)\n",
    "max_length"
   ]
  },
  {
   "cell_type": "code",
   "execution_count": 6,
   "id": "b823b50e-ae82-45fe-a2c8-f41b4df1a7ad",
   "metadata": {},
   "outputs": [],
   "source": [
    "inputs = tokenizer(ds['text'], return_tensors='pt', max_length=35, truncation=True, padding='max_length')\n",
    "inputs_eval = tokenizer(ds_eval['text'], return_tensors='pt', max_length=35, truncation=True, padding='max_length')"
   ]
  },
  {
   "cell_type": "code",
   "execution_count": 7,
   "id": "73199bc4-8521-4304-a13e-c1e3740e9221",
   "metadata": {},
   "outputs": [],
   "source": [
    "inputs['labels'] = inputs.input_ids.detach().clone()\n",
    "inputs_eval['labels'] = inputs.input_ids.detach().clone()"
   ]
  },
  {
   "cell_type": "code",
   "execution_count": 8,
   "id": "04a0a075-7ba1-4923-b801-f9497f610f88",
   "metadata": {},
   "outputs": [],
   "source": [
    "labels = tokenizer(ds[\"label\"], add_special_tokens=False)\n",
    "labels = [item for sublist in labels['input_ids'] for item in sublist]\n",
    "\n",
    "labels_eval = tokenizer(ds[\"label\"], add_special_tokens=False)\n",
    "labels_eval = [item for sublist in labels_eval['input_ids'] for item in sublist]"
   ]
  },
  {
   "cell_type": "code",
   "execution_count": 9,
   "id": "6e1700ec-649a-40a9-a914-6a6fdfbb8b0f",
   "metadata": {},
   "outputs": [],
   "source": [
    "for tensor in inputs['labels']:\n",
    "    for n, token in enumerate(tensor):\n",
    "        if token.item() == tokenizer.mask_token_id:\n",
    "            tensor[n] = torch.tensor(labels.pop(0))\n",
    "\n",
    "for tensor in inputs_eval['labels']:\n",
    "    for n, token in enumerate(tensor):\n",
    "        if token.item() == tokenizer.mask_token_id:\n",
    "            tensor[n] = torch.tensor(labels_eval.pop(0))"
   ]
  },
  {
   "cell_type": "code",
   "execution_count": 10,
   "id": "459c4fa2-2464-41dc-bf71-77f50714337c",
   "metadata": {},
   "outputs": [
    {
     "name": "stderr",
     "output_type": "stream",
     "text": [
      "2024-03-27 15:16:00.142271: I tensorflow/core/platform/cpu_feature_guard.cc:182] This TensorFlow binary is optimized to use available CPU instructions in performance-critical operations.\n",
      "To enable the following instructions: SSE4.1 SSE4.2 AVX AVX2 FMA, in other operations, rebuild TensorFlow with the appropriate compiler flags.\n"
     ]
    },
    {
     "data": {
      "text/plain": [
       "'[CLS] some plant varieties can grow up to [MASK] feet tall. [SEP] [PAD] [PAD] [PAD] [PAD] [PAD] [PAD] [PAD] [PAD] [PAD] [PAD] [PAD] [PAD] [PAD] [PAD] [PAD] [PAD] [PAD] [PAD] [PAD] [PAD] [PAD] [PAD]'"
      ]
     },
     "execution_count": 10,
     "metadata": {},
     "output_type": "execute_result"
    }
   ],
   "source": [
    "tokenizer.decode(inputs['input_ids'][0])"
   ]
  },
  {
   "cell_type": "code",
   "execution_count": 11,
   "id": "4a2b94b0-6e23-48f2-8d5b-c7361d192406",
   "metadata": {},
   "outputs": [
    {
     "data": {
      "text/plain": [
       "'n i n e'"
      ]
     },
     "execution_count": 11,
     "metadata": {},
     "output_type": "execute_result"
    }
   ],
   "source": [
    "inputs['input_ids'][0]\n",
    "inputs['labels'][0]\n",
    "tokenizer.decode(3157)"
   ]
  },
  {
   "cell_type": "code",
   "execution_count": 12,
   "id": "ee09a611-b26f-47e3-baa3-af8e9a1656b8",
   "metadata": {},
   "outputs": [],
   "source": [
    "class CustomDataset(torch.utils.data.Dataset):\n",
    "    def __init__(self, encodings):\n",
    "        self.encodings = encodings\n",
    "    def __getitem__(self, idx):\n",
    "        return {key: torch.tensor(val[idx]) for key, val in self.encodings.items()}\n",
    "    def __len__(self):\n",
    "        return len(self.encodings.input_ids)"
   ]
  },
  {
   "cell_type": "code",
   "execution_count": 13,
   "id": "550a6509-4804-444c-b307-f195516a8f1e",
   "metadata": {},
   "outputs": [],
   "source": [
    "dataset = CustomDataset(inputs)\n",
    "dataset_eval = CustomDataset(inputs)"
   ]
  },
  {
   "cell_type": "code",
   "execution_count": 14,
   "id": "9d427dee-c117-41c7-905b-b501e2aa8bc6",
   "metadata": {},
   "outputs": [],
   "source": [
    "dataloader = torch.utils.data.DataLoader(dataset, batch_size=16, shuffle=True)\n",
    "dataloader_eval = torch.utils.data.DataLoader(dataset_eval, batch_size=16, shuffle=True)"
   ]
  },
  {
   "cell_type": "code",
   "execution_count": 15,
   "id": "d6fb7e83-7405-47e4-a60e-eae559c20981",
   "metadata": {},
   "outputs": [
    {
     "data": {
      "text/plain": [
       "BertForMaskedLM(\n",
       "  (bert): BertModel(\n",
       "    (embeddings): BertEmbeddings(\n",
       "      (word_embeddings): Embedding(30522, 768, padding_idx=0)\n",
       "      (position_embeddings): Embedding(512, 768)\n",
       "      (token_type_embeddings): Embedding(2, 768)\n",
       "      (LayerNorm): LayerNorm((768,), eps=1e-12, elementwise_affine=True)\n",
       "      (dropout): Dropout(p=0.1, inplace=False)\n",
       "    )\n",
       "    (encoder): BertEncoder(\n",
       "      (layer): ModuleList(\n",
       "        (0-11): 12 x BertLayer(\n",
       "          (attention): BertAttention(\n",
       "            (self): BertSelfAttention(\n",
       "              (query): Linear(in_features=768, out_features=768, bias=True)\n",
       "              (key): Linear(in_features=768, out_features=768, bias=True)\n",
       "              (value): Linear(in_features=768, out_features=768, bias=True)\n",
       "              (dropout): Dropout(p=0.1, inplace=False)\n",
       "            )\n",
       "            (output): BertSelfOutput(\n",
       "              (dense): Linear(in_features=768, out_features=768, bias=True)\n",
       "              (LayerNorm): LayerNorm((768,), eps=1e-12, elementwise_affine=True)\n",
       "              (dropout): Dropout(p=0.1, inplace=False)\n",
       "            )\n",
       "          )\n",
       "          (intermediate): BertIntermediate(\n",
       "            (dense): Linear(in_features=768, out_features=3072, bias=True)\n",
       "            (intermediate_act_fn): GELUActivation()\n",
       "          )\n",
       "          (output): BertOutput(\n",
       "            (dense): Linear(in_features=3072, out_features=768, bias=True)\n",
       "            (LayerNorm): LayerNorm((768,), eps=1e-12, elementwise_affine=True)\n",
       "            (dropout): Dropout(p=0.1, inplace=False)\n",
       "          )\n",
       "        )\n",
       "      )\n",
       "    )\n",
       "  )\n",
       "  (cls): BertOnlyMLMHead(\n",
       "    (predictions): BertLMPredictionHead(\n",
       "      (transform): BertPredictionHeadTransform(\n",
       "        (dense): Linear(in_features=768, out_features=768, bias=True)\n",
       "        (transform_act_fn): GELUActivation()\n",
       "        (LayerNorm): LayerNorm((768,), eps=1e-12, elementwise_affine=True)\n",
       "      )\n",
       "      (decoder): Linear(in_features=768, out_features=30522, bias=True)\n",
       "    )\n",
       "  )\n",
       ")"
      ]
     },
     "execution_count": 15,
     "metadata": {},
     "output_type": "execute_result"
    }
   ],
   "source": [
    "#Training\n",
    "device = torch.device('cuda') if torch.cuda.is_available() else torch.device('cpu')\n",
    "model.to(device)"
   ]
  },
  {
   "cell_type": "code",
   "execution_count": 16,
   "id": "e13a10fe-1d77-4b10-a1ff-bd53c00a94bd",
   "metadata": {},
   "outputs": [
    {
     "data": {
      "text/plain": [
       "BertForMaskedLM(\n",
       "  (bert): BertModel(\n",
       "    (embeddings): BertEmbeddings(\n",
       "      (word_embeddings): Embedding(30522, 768, padding_idx=0)\n",
       "      (position_embeddings): Embedding(512, 768)\n",
       "      (token_type_embeddings): Embedding(2, 768)\n",
       "      (LayerNorm): LayerNorm((768,), eps=1e-12, elementwise_affine=True)\n",
       "      (dropout): Dropout(p=0.1, inplace=False)\n",
       "    )\n",
       "    (encoder): BertEncoder(\n",
       "      (layer): ModuleList(\n",
       "        (0-11): 12 x BertLayer(\n",
       "          (attention): BertAttention(\n",
       "            (self): BertSelfAttention(\n",
       "              (query): Linear(in_features=768, out_features=768, bias=True)\n",
       "              (key): Linear(in_features=768, out_features=768, bias=True)\n",
       "              (value): Linear(in_features=768, out_features=768, bias=True)\n",
       "              (dropout): Dropout(p=0.1, inplace=False)\n",
       "            )\n",
       "            (output): BertSelfOutput(\n",
       "              (dense): Linear(in_features=768, out_features=768, bias=True)\n",
       "              (LayerNorm): LayerNorm((768,), eps=1e-12, elementwise_affine=True)\n",
       "              (dropout): Dropout(p=0.1, inplace=False)\n",
       "            )\n",
       "          )\n",
       "          (intermediate): BertIntermediate(\n",
       "            (dense): Linear(in_features=768, out_features=3072, bias=True)\n",
       "            (intermediate_act_fn): GELUActivation()\n",
       "          )\n",
       "          (output): BertOutput(\n",
       "            (dense): Linear(in_features=3072, out_features=768, bias=True)\n",
       "            (LayerNorm): LayerNorm((768,), eps=1e-12, elementwise_affine=True)\n",
       "            (dropout): Dropout(p=0.1, inplace=False)\n",
       "          )\n",
       "        )\n",
       "      )\n",
       "    )\n",
       "  )\n",
       "  (cls): BertOnlyMLMHead(\n",
       "    (predictions): BertLMPredictionHead(\n",
       "      (transform): BertPredictionHeadTransform(\n",
       "        (dense): Linear(in_features=768, out_features=768, bias=True)\n",
       "        (transform_act_fn): GELUActivation()\n",
       "        (LayerNorm): LayerNorm((768,), eps=1e-12, elementwise_affine=True)\n",
       "      )\n",
       "      (decoder): Linear(in_features=768, out_features=30522, bias=True)\n",
       "    )\n",
       "  )\n",
       ")"
      ]
     },
     "execution_count": 16,
     "metadata": {},
     "output_type": "execute_result"
    }
   ],
   "source": [
    "model.train()"
   ]
  },
  {
   "cell_type": "code",
   "execution_count": 17,
   "id": "84eed7c5-b8a6-493f-bdea-e8c3157ee392",
   "metadata": {},
   "outputs": [],
   "source": [
    "from torch.optim import AdamW\n",
    "optim = AdamW(model.parameters(), lr=1e-5)"
   ]
  },
  {
   "cell_type": "code",
   "execution_count": 18,
   "id": "940954c6-3c78-46f4-9a2c-3fe72b85fda2",
   "metadata": {},
   "outputs": [
    {
     "data": {
      "text/plain": [
       "True"
      ]
     },
     "execution_count": 18,
     "metadata": {},
     "output_type": "execute_result"
    }
   ],
   "source": [
    "import torch\n",
    "torch.cuda.is_available()\n"
   ]
  },
  {
   "cell_type": "code",
   "execution_count": null,
   "id": "de9fb77b-ae4e-4201-bd11-4bd70ab99e77",
   "metadata": {},
   "outputs": [
    {
     "name": "stderr",
     "output_type": "stream",
     "text": [
      "  0%|          | 0/653 [00:00<?, ?it/s]/tmp/ipykernel_3761/2775228074.py:5: UserWarning: To copy construct from a tensor, it is recommended to use sourceTensor.clone().detach() or sourceTensor.clone().detach().requires_grad_(True), rather than torch.tensor(sourceTensor).\n",
      "  return {key: torch.tensor(val[idx]) for key, val in self.encodings.items()}\n",
      "Epoch 0: 100%|██████████| 653/653 [00:38<00:00, 16.90it/s, loss=0.0571]\n",
      "Epoch 0: 100%|██████████| 653/653 [00:12<00:00, 50.39it/s, loss=0.0347]\n",
      "Epoch 1: 100%|██████████| 653/653 [00:38<00:00, 16.92it/s, loss=0.0463]\n",
      "Epoch 1: 100%|██████████| 653/653 [00:12<00:00, 50.29it/s, loss=0.0328]\n",
      "Epoch 2: 100%|██████████| 653/653 [00:38<00:00, 16.82it/s, loss=0.0297]\n",
      "Epoch 2: 100%|██████████| 653/653 [00:13<00:00, 50.19it/s, loss=0.0303]\n",
      "Epoch 3: 100%|██████████| 653/653 [00:38<00:00, 16.79it/s, loss=0.021] \n",
      "Epoch 3: 100%|██████████| 653/653 [00:13<00:00, 50.11it/s, loss=0.0319]\n",
      "Epoch 4: 100%|██████████| 653/653 [00:38<00:00, 16.88it/s, loss=0.0458]\n",
      "Epoch 4: 100%|██████████| 653/653 [00:12<00:00, 50.41it/s, loss=0.0297] \n",
      "Epoch 5: 100%|██████████| 653/653 [00:38<00:00, 16.83it/s, loss=0.0327]\n",
      "Epoch 5: 100%|██████████| 653/653 [00:13<00:00, 49.69it/s, loss=0.0107] \n",
      "Epoch 6: 100%|██████████| 653/653 [00:39<00:00, 16.59it/s, loss=0.0321] \n",
      "Epoch 6: 100%|██████████| 653/653 [00:12<00:00, 50.43it/s, loss=0.0139] \n",
      "Epoch 7: 100%|██████████| 653/653 [00:38<00:00, 16.87it/s, loss=0.0209] \n",
      "Epoch 7:  43%|████▎     | 279/653 [00:05<00:07, 50.11it/s, loss=0.00839]"
     ]
    }
   ],
   "source": [
    "from tqdm import tqdm\n",
    "epochs = 70\n",
    "step = 0\n",
    "train_loss = []\n",
    "eval_loss = []\n",
    "for epoch in range(epochs):\n",
    "    loop = tqdm(dataloader, leave=True)\n",
    "    for batch in loop:\n",
    "        optim.zero_grad()\n",
    "        input_ids = batch['input_ids'].to(device)\n",
    "        attention_mask = batch['attention_mask'].to(device)\n",
    "        labels = batch['labels'].to(device)\n",
    "        \n",
    "        outputs = model(input_ids, attention_mask=attention_mask, labels=labels)\n",
    "        loss = outputs.loss\n",
    "        loss.backward()\n",
    "        optim.step()\n",
    "        loop.set_description(f'Epoch {epoch}')\n",
    "        loop.set_postfix(loss=loss.item())\n",
    "        step += 1\n",
    "\n",
    "    model.save_pretrained(f'./checkpoint/bert_epoch_{epoch}')\n",
    "    tokenizer.save_pretrained(f'./checkpoint/bert_epoch_{epoch}')\n",
    "\n",
    "    model.eval()\n",
    "    loop_2 = tqdm(dataloader_eval, leave=True)\n",
    "    for batch in loop_2:\n",
    "        optim.zero_grad()\n",
    "        input_ids = batch['input_ids'].to(device)\n",
    "        attention_mask = batch['attention_mask'].to(device)\n",
    "        labels = batch['labels'].to(device)\n",
    "        \n",
    "        outputs = model(input_ids, attention_mask=attention_mask, labels=labels)\n",
    "        loss_eval = outputs.loss\n",
    "        loop_2.set_description(f'Epoch {epoch}')\n",
    "        loop_2.set_postfix(loss=loss_eval.item())\n",
    "\n",
    "    train_loss.append(loss)\n",
    "    eval_loss.append(loss_eval)\n",
    "    model.train()\n",
    "        "
   ]
  },
  {
   "cell_type": "code",
   "execution_count": 24,
   "id": "99e52db6-a831-4f9e-867e-d7f146f31e57",
   "metadata": {},
   "outputs": [],
   "source": [
    "ds_eval = Dataset.load_from_disk(\"masked_validation_dataset\")\n",
    "eval_list = []\n",
    "for n, line in enumerate(ds_eval['text']):\n",
    "    eval_list.append(line.replace(\"<mask>\", \"[MASK]\"))"
   ]
  },
  {
   "cell_type": "code",
   "execution_count": null,
   "id": "09187a09-d787-432f-85c7-cd1829b8202a",
   "metadata": {},
   "outputs": [],
   "source": [
    "from transformers import pipeline\n",
    "def evalModel(path, eval_list, ground_truth):\n",
    "    fill = pipeline('fill-mask', model=path, tokenizer=path)\n",
    "    \n",
    "    results = []\n",
    "    for line in eval_list:\n",
    "        results.append(fill(line)[0]['token_str'])\n",
    "\n",
    "    num_correct = 0\n",
    "    total_elements = len(results)\n",
    "    for i in range(total_elements):\n",
    "        if results[i] == ground_truth[i]:\n",
    "            num_correct += 1\n",
    "\n",
    "    proportion_correct = num_correct / total_elements\n",
    "    return proportion_correct"
   ]
  },
  {
   "cell_type": "code",
   "execution_count": 23,
   "id": "fb181070-517b-4aa3-9786-0fd46ee4594f",
   "metadata": {},
   "outputs": [
    {
     "ename": "NameError",
     "evalue": "name 'evalModel' is not defined",
     "output_type": "error",
     "traceback": [
      "\u001b[0;31m---------------------------------------------------------------------------\u001b[0m",
      "\u001b[0;31mNameError\u001b[0m                                 Traceback (most recent call last)",
      "Cell \u001b[0;32mIn[23], line 4\u001b[0m\n\u001b[1;32m      2\u001b[0m \u001b[38;5;28;01mfor\u001b[39;00m n \u001b[38;5;129;01min\u001b[39;00m \u001b[38;5;28mrange\u001b[39m(epochs):\n\u001b[1;32m      3\u001b[0m     model_path \u001b[38;5;241m=\u001b[39m \u001b[38;5;124mf\u001b[39m\u001b[38;5;124m\"\u001b[39m\u001b[38;5;124m./checkpoint/bert_epoch_\u001b[39m\u001b[38;5;132;01m{\u001b[39;00mn\u001b[38;5;132;01m}\u001b[39;00m\u001b[38;5;124m\"\u001b[39m\n\u001b[0;32m----> 4\u001b[0m     eval_acc\u001b[38;5;241m.\u001b[39mappend(\u001b[43mevalModel\u001b[49m(model_path, eval_list, ds_eval[\u001b[38;5;124m'\u001b[39m\u001b[38;5;124mlabel\u001b[39m\u001b[38;5;124m'\u001b[39m]))\n\u001b[1;32m      5\u001b[0m \u001b[38;5;28mprint\u001b[39m(eval_acc)\n",
      "\u001b[0;31mNameError\u001b[0m: name 'evalModel' is not defined"
     ]
    }
   ],
   "source": [
    "eval_acc=[]\n",
    "for n in range(epochs):\n",
    "    model_path = f\"./checkpoint/bert_epoch_{n}\"\n",
    "    eval_acc.append(evalModel(model_path, eval_list, ds_eval['label']))\n",
    "print(eval_acc)"
   ]
  },
  {
   "cell_type": "code",
   "execution_count": 26,
   "id": "577ac4dd-45ed-4841-8573-e0a53f8c3060",
   "metadata": {},
   "outputs": [
    {
     "name": "stdout",
     "output_type": "stream",
     "text": [
      "91\n",
      "200\n"
     ]
    },
    {
     "data": {
      "text/plain": [
       "0.455"
      ]
     },
     "execution_count": 26,
     "metadata": {},
     "output_type": "execute_result"
    }
   ],
   "source": [
    "from transformers import pipeline\n",
    "path='./checkpoint/bert_epoch_9'\n",
    "\n",
    "fill = pipeline('fill-mask', model=path, tokenizer=path)\n",
    "    \n",
    "results = []\n",
    "for line in eval_list:\n",
    "    results.append(fill(line)[0]['token_str'])\n",
    "\n",
    "num_correct = 0\n",
    "total_elements = len(results)\n",
    "for i in range(total_elements):\n",
    "    if results[i] == ds_eval['label'][i]:\n",
    "        num_correct += 1\n",
    "print(num_correct)\n",
    "print(total_elements)\n",
    "proportion_correct = num_correct / total_elements\n",
    "proportion_correct"
   ]
  },
  {
   "cell_type": "code",
   "execution_count": null,
   "id": "e0f88d02-7e16-4f18-a43e-d48af40d3106",
   "metadata": {},
   "outputs": [],
   "source": []
  },
  {
   "cell_type": "code",
   "execution_count": null,
   "id": "2d3309e8-5b01-4775-b5d0-78bc8b32dd42",
   "metadata": {},
   "outputs": [],
   "source": [
    "sequence = f\"Positive numbers are more than [MASK] and negative numbers are less than zero.\"\n",
    "\n",
    "fill(sequence)[0]['token_str']"
   ]
  },
  {
   "cell_type": "code",
   "execution_count": null,
   "id": "d727a614-d950-4f3d-a123-768d49137d1f",
   "metadata": {},
   "outputs": [],
   "source": [
    "ds_eval = Dataset.load_from_disk(\"masked_validation_dataset\")\n",
    "eval_list = []\n",
    "for n, line in enumerate(ds_eval['text']):\n",
    "    eval_list.append(line.replace(\"<mask>\", \"[MASK]\"))\n"
   ]
  },
  {
   "cell_type": "code",
   "execution_count": null,
   "id": "4378265f-0d7f-4cbd-903d-5ce83cdfd58e",
   "metadata": {},
   "outputs": [],
   "source": [
    "results = []\n",
    "for line in eval_list:\n",
    "    results.append(fill(line)[0]['token_str'])\n",
    "    "
   ]
  },
  {
   "cell_type": "code",
   "execution_count": null,
   "id": "f980b164-9b46-42cf-aa2b-60e94965ba2d",
   "metadata": {},
   "outputs": [],
   "source": [
    "ds_eval['label'][0]"
   ]
  },
  {
   "cell_type": "code",
   "execution_count": null,
   "id": "542bafc2-a2e8-43c7-8274-5e22d5a2d316",
   "metadata": {},
   "outputs": [],
   "source": [
    "num_correct = 0\n",
    "total_elements = len(results)\n",
    "\n",
    "for i in range(total_elements):\n",
    "    if results[i] == ds_eval['label'][i]:\n",
    "        num_correct += 1\n",
    "\n",
    "proportion_correct = num_correct / total_elements\n",
    "proportion_correct"
   ]
  }
 ],
 "metadata": {
  "kernelspec": {
   "display_name": "Python 3 (ipykernel)",
   "language": "python",
   "name": "python3"
  },
  "language_info": {
   "codemirror_mode": {
    "name": "ipython",
    "version": 3
   },
   "file_extension": ".py",
   "mimetype": "text/x-python",
   "name": "python",
   "nbconvert_exporter": "python",
   "pygments_lexer": "ipython3",
   "version": "3.10.13"
  }
 },
 "nbformat": 4,
 "nbformat_minor": 5
}
